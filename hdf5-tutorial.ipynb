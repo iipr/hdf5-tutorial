{
 "cells": [
  {
   "cell_type": "markdown",
   "metadata": {},
   "source": [
    "---\n",
    "\n",
    "**Introduction and examples on HDF5**\n",
    "\n",
    "---\n",
    "\n",
    "HDF5 is file format for storing data with many desired features, such as:\n",
    "- a hierarchical structure (similar to folders/files),\n",
    "- compression,\n",
    "- selective data loading,\n",
    "- it provides metadata features,\n",
    "- fast I/O,\n",
    "- it runs in multiple platforms."
   ]
  },
  {
   "cell_type": "code",
   "execution_count": 1,
   "metadata": {},
   "outputs": [],
   "source": [
    "import numpy as np\n",
    "import tables as tb\n",
    "import time"
   ]
  },
  {
   "cell_type": "markdown",
   "metadata": {},
   "source": [
    "# Saving data into an HDF5 file"
   ]
  },
  {
   "cell_type": "markdown",
   "metadata": {},
   "source": [
    "## Creating the file"
   ]
  },
  {
   "cell_type": "markdown",
   "metadata": {},
   "source": [
    "Parameters when opening/creating and HDF5 file:\n",
    "- `mode`: read, write, append. **Caveat**: using write deletes any existing file with the same name.\n",
    "- `filters`: I/O filters applicable to the leaves. Not compulsory, but useful (compression).\n",
    "\n",
    "Reference:\n",
    "- https://www.pytables.org/usersguide/libref/top_level.html?highlight=open_file#tables.open_file\n",
    "- https://www.pytables.org/usersguide/libref/helper_classes.html#tables.Filters"
   ]
  },
  {
   "cell_type": "code",
   "execution_count": 2,
   "metadata": {},
   "outputs": [
    {
     "name": "stdout",
     "output_type": "stream",
     "text": [
      "./test.h5 (File) ''\n",
      "Last modif.: 'Wed Sep  9 18:49:48 2020'\n",
      "Object Tree: \n",
      "/ (RootGroup) ''\n",
      "\n"
     ]
    }
   ],
   "source": [
    "fpath = './test.h5'\n",
    "filters = tb.Filters(complib='blosc:lz4hc', complevel=9)\n",
    "\n",
    "with tb.open_file(fpath, mode='a', filters=filters) as h5_file:\n",
    "    print(h5_file)"
   ]
  },
  {
   "cell_type": "markdown",
   "metadata": {},
   "source": [
    "We have just created an empty HDF5 file with just the root group."
   ]
  },
  {
   "cell_type": "markdown",
   "metadata": {},
   "source": [
    "## Adding data"
   ]
  },
  {
   "cell_type": "markdown",
   "metadata": {},
   "source": [
    "Specifying the data type is not compulsory, but it can be useful."
   ]
  },
  {
   "cell_type": "code",
   "execution_count": 3,
   "metadata": {},
   "outputs": [
    {
     "name": "stdout",
     "output_type": "stream",
     "text": [
      "./test.h5 (File) ''\n",
      "Last modif.: 'Wed Sep  9 18:49:50 2020'\n",
      "Object Tree: \n",
      "/ (RootGroup) ''\n",
      "/table_1 (CArray(10, 5), shuffle, blosc:lz4hc(9)) ''\n",
      "\n"
     ]
    }
   ],
   "source": [
    "dtype = tb.Float64Atom()\n",
    "data = np.random.rand(10, 5)\n",
    "\n",
    "with tb.open_file(fpath, mode='a', filters=filters) as h5_file:\n",
    "    h5_file.create_carray(obj=data, atom=dtype, where='/', name='table_1')\n",
    "    print(h5_file)"
   ]
  },
  {
   "cell_type": "markdown",
   "metadata": {},
   "source": [
    "We have just saved the table `data` of shape `(10, 5)` into a dataset named `table_1` on the root group of the HDF5 file."
   ]
  },
  {
   "cell_type": "markdown",
   "metadata": {},
   "source": [
    "## Dataset styles"
   ]
  },
  {
   "cell_type": "markdown",
   "metadata": {},
   "source": [
    "Note that `pytables` allows to create groups and datasets in different ways:\n",
    "- `create_group`: Create a new group.\n",
    "- `create_array`: Create a new array.\n",
    "- `create_carray`: Create a new chunked array.\n",
    "- `create_earray`: Create a new enlargeable array.\n",
    "- `create_table`: Create a new table. Haven't worked with them.\n",
    "\n",
    "Reference:\n",
    "- https://www.pytables.org/usersguide/libref/file_class.html?highlight=earray#tables.File.create_array"
   ]
  },
  {
   "cell_type": "markdown",
   "metadata": {},
   "source": [
    "## Attributes"
   ]
  },
  {
   "cell_type": "markdown",
   "metadata": {},
   "source": [
    "Adding attributes to groups or datasets is one of the key features HDF5 provides. "
   ]
  },
  {
   "cell_type": "code",
   "execution_count": 4,
   "metadata": {},
   "outputs": [
    {
     "name": "stdout",
     "output_type": "stream",
     "text": [
      "./test.h5 (File) ''\n",
      "Last modif.: 'Wed Sep  9 18:49:54 2020'\n",
      "Object Tree: \n",
      "/ (RootGroup) ''\n",
      "/table_1 (CArray(10, 5), shuffle, blosc:lz4hc(9)) ''\n",
      "/table_2 (CArray(15, 10), shuffle, blosc:lz4hc(9)) ''\n",
      "\n",
      "\n"
     ]
    }
   ],
   "source": [
    "data = np.random.rand(15, 10)\n",
    "\n",
    "with tb.open_file(fpath, mode='a', filters=filters) as h5_file:\n",
    "    node = h5_file.create_carray(obj=data, atom=dtype, where='/', name='table_2')\n",
    "    # Add meta: column names\n",
    "    node._v_attrs['experiment_date'] = time.strftime('%d/%B/%Y %H:%M:%S', time.localtime())\n",
    "    print(h5_file)\n",
    "    print()"
   ]
  },
  {
   "cell_type": "markdown",
   "metadata": {},
   "source": [
    "We have just created a new chunked array and added some metadata to it. We can retrieve it as follows:"
   ]
  },
  {
   "cell_type": "code",
   "execution_count": 5,
   "metadata": {},
   "outputs": [
    {
     "name": "stdout",
     "output_type": "stream",
     "text": [
      "Date of the experiment: 09/September/2020 18:49:54\n"
     ]
    }
   ],
   "source": [
    "with tb.open_file(fpath, mode='r', filters=filters) as h5_file:\n",
    "    print('Date of the experiment:', h5_file.get_node('/table_2')._v_attrs['experiment_date'])"
   ]
  },
  {
   "cell_type": "markdown",
   "metadata": {},
   "source": [
    "Generally, you can save any Python object as an attribute (lists, dictionaries...)."
   ]
  },
  {
   "cell_type": "markdown",
   "metadata": {},
   "source": [
    "# Reading from and HDF5 file"
   ]
  },
  {
   "cell_type": "markdown",
   "metadata": {},
   "source": [
    "## Reading the full table"
   ]
  },
  {
   "cell_type": "markdown",
   "metadata": {},
   "source": [
    "There are different ways for reading data from an HDF5 file:"
   ]
  },
  {
   "cell_type": "code",
   "execution_count": 6,
   "metadata": {},
   "outputs": [
    {
     "name": "stdout",
     "output_type": "stream",
     "text": [
      "/table_1 (CArray(10, 5), shuffle, blosc:lz4hc(9)) ''\n"
     ]
    }
   ],
   "source": [
    "with tb.open_file(fpath, mode='r', filters=filters) as h5_file:\n",
    "    print(h5_file.get_node('/table_1'))"
   ]
  },
  {
   "cell_type": "markdown",
   "metadata": {},
   "source": [
    "Note that in the previous example, we havent read the data yet, but rather we have a reference to it. We can force it to read by adding `[:]`:"
   ]
  },
  {
   "cell_type": "code",
   "execution_count": 7,
   "metadata": {},
   "outputs": [
    {
     "name": "stdout",
     "output_type": "stream",
     "text": [
      "[[0.31210029 0.97397513 0.50778398 0.86512333 0.86052477]\n",
      " [0.23769895 0.54661755 0.47077833 0.41527728 0.56254675]\n",
      " [0.74181591 0.77437575 0.97620274 0.05962677 0.03046987]\n",
      " [0.83718529 0.2730375  0.49913297 0.15654673 0.21424502]\n",
      " [0.48337156 0.51953183 0.7572829  0.86366161 0.7796142 ]\n",
      " [0.76353492 0.43932678 0.19088249 0.04277602 0.90556977]\n",
      " [0.30980525 0.90509908 0.89485527 0.14282516 0.72605461]\n",
      " [0.15176233 0.37530405 0.31438245 0.45979472 0.33488458]\n",
      " [0.7856728  0.04131435 0.09246083 0.50245168 0.45553898]\n",
      " [0.37581702 0.47238327 0.61691669 0.15876077 0.17415818]]\n"
     ]
    }
   ],
   "source": [
    "with tb.open_file(fpath, mode='r', filters=filters) as h5_file:\n",
    "    data = h5_file.get_node('/table_1')[:]\n",
    "    print(data)"
   ]
  },
  {
   "cell_type": "markdown",
   "metadata": {},
   "source": [
    "## Slicing"
   ]
  },
  {
   "cell_type": "markdown",
   "metadata": {},
   "source": [
    "Same as with `numpy`, we can slice the array. For example, the last row and starting from the 2nd column:"
   ]
  },
  {
   "cell_type": "code",
   "execution_count": 8,
   "metadata": {},
   "outputs": [
    {
     "name": "stdout",
     "output_type": "stream",
     "text": [
      "[0.61691669 0.15876077 0.17415818]\n"
     ]
    }
   ],
   "source": [
    "with tb.open_file(fpath, mode='r', filters=filters) as h5_file:\n",
    "    print(h5_file.get_node('/table_1')[-1, 2:])"
   ]
  },
  {
   "cell_type": "markdown",
   "metadata": {},
   "source": [
    "Note that this is very useful **if you don't want to read the full array into memory**."
   ]
  },
  {
   "cell_type": "markdown",
   "metadata": {},
   "source": [
    "## Alternative way to read data"
   ]
  },
  {
   "cell_type": "markdown",
   "metadata": {},
   "source": [
    "Instead of using `get_node`, you can also read data in similar fashion as with Python dictionaries:"
   ]
  },
  {
   "cell_type": "code",
   "execution_count": 9,
   "metadata": {},
   "outputs": [
    {
     "name": "stdout",
     "output_type": "stream",
     "text": [
      "[0.61691669 0.15876077 0.17415818]\n"
     ]
    }
   ],
   "source": [
    "with tb.open_file(fpath, mode='r', filters=filters) as h5_file:\n",
    "    print(h5_file.root['/table_1'][-1, 2:])"
   ]
  },
  {
   "cell_type": "markdown",
   "metadata": {},
   "source": [
    "# Vitables"
   ]
  },
  {
   "cell_type": "markdown",
   "metadata": {},
   "source": [
    "Vitables is a Python program that allows the visualization (and, to some extent, manipulation) of HDF5 files. It can be `pip` installed as usual. The previous test dataset can be opened and data can be displayed, including its attributes.\n",
    "\n",
    "Reference: https://vitables.org/"
   ]
  }
 ],
 "metadata": {
  "kernelspec": {
   "display_name": "Python 3",
   "language": "python",
   "name": "python3"
  },
  "language_info": {
   "codemirror_mode": {
    "name": "ipython",
    "version": 3
   },
   "file_extension": ".py",
   "mimetype": "text/x-python",
   "name": "python",
   "nbconvert_exporter": "python",
   "pygments_lexer": "ipython3",
   "version": "3.8.2"
  },
  "latex_envs": {
   "LaTeX_envs_menu_present": true,
   "autoclose": false,
   "autocomplete": true,
   "bibliofile": "biblio.bib",
   "cite_by": "apalike",
   "current_citInitial": 1,
   "eqLabelWithNumbers": true,
   "eqNumInitial": 1,
   "hotkeys": {
    "equation": "Ctrl-E",
    "itemize": "Ctrl-I"
   },
   "labels_anchors": false,
   "latex_user_defs": false,
   "report_style_numbering": false,
   "user_envs_cfg": false
  },
  "toc": {
   "base_numbering": 1,
   "nav_menu": {},
   "number_sections": true,
   "sideBar": true,
   "skip_h1_title": false,
   "title_cell": "Table of Contents",
   "title_sidebar": "Contents",
   "toc_cell": false,
   "toc_position": {},
   "toc_section_display": true,
   "toc_window_display": true
  }
 },
 "nbformat": 4,
 "nbformat_minor": 4
}
